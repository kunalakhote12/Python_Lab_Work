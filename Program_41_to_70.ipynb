{
  "nbformat": 4,
  "nbformat_minor": 0,
  "metadata": {
    "colab": {
      "name": "Program_41_to_70.ipynb",
      "provenance": [],
      "collapsed_sections": []
    },
    "kernelspec": {
      "name": "python3",
      "display_name": "Python 3"
    },
    "language_info": {
      "name": "python"
    }
  },
  "cells": [
    {
      "cell_type": "code",
      "metadata": {
        "colab": {
          "base_uri": "https://localhost:8080/"
        },
        "id": "aKK2zbGatq3G",
        "outputId": "4464b97c-7a21-4c70-e8c1-586a2e2e013c"
      },
      "source": [
        "#Write a Python program to count occurrences of a substring in a string.\n",
        "s=input(\"Enter the string \")\n",
        "subs=input(\"Enter the substring to be counted \")\n",
        "res=s.count(subs)\n",
        "print(res)"
      ],
      "execution_count": null,
      "outputs": [
        {
          "output_type": "stream",
          "name": "stdout",
          "text": [
            "Enter the string the school is good but school is far\n",
            "Enter the substring to be counted school\n",
            "2\n"
          ]
        }
      ]
    },
    {
      "cell_type": "code",
      "metadata": {
        "colab": {
          "base_uri": "https://localhost:8080/"
        },
        "id": "oI5n_CfaurwP",
        "outputId": "c46dfac8-3e78-4f07-d105-34d49626355e"
      },
      "source": [
        "#Write a Python program to lowercase first n characters in a string.\n",
        "s=input(\"Enter the string \")\n",
        "n=int(input(\"Enter the value of n \"))\n",
        "print(s[:n].lower()+s[n:])"
      ],
      "execution_count": null,
      "outputs": [
        {
          "output_type": "stream",
          "name": "stdout",
          "text": [
            "Enter the string HEEman\n",
            "Enter the value of n 2\n",
            "heEman\n"
          ]
        }
      ]
    },
    {
      "cell_type": "code",
      "metadata": {
        "colab": {
          "base_uri": "https://localhost:8080/"
        },
        "id": "MqTJLdWI0GOm",
        "outputId": "2ad16792-9a28-41f4-8b85-ad4a5e53610b"
      },
      "source": [
        "#Write a Python program to remove spaces from a given string.\n",
        "s=input(\"Enter the string \")\n",
        "print(s.replace(\" \",\"\"))"
      ],
      "execution_count": null,
      "outputs": [
        {
          "output_type": "stream",
          "name": "stdout",
          "text": [
            "Enter the string P Y T H      O N\n",
            "PYTHON\n"
          ]
        }
      ]
    },
    {
      "cell_type": "code",
      "metadata": {
        "colab": {
          "base_uri": "https://localhost:8080/"
        },
        "id": "R8x2FZZ70_Ia",
        "outputId": "52c1c79b-8beb-4ce8-cc96-1a6ebee0b36e"
      },
      "source": [
        "#Write a Python program to move spaces to the front of a given string.\n",
        "s=input(\"Enter the string \")\n",
        "noSpaces_char=[ch for ch in s if ch!=' ']\n",
        "spaces_char=len(s)-len(noSpaces_char)\n",
        "res=' '*spaces_char\n",
        "res=res+''.join(noSpaces_char)\n",
        "print(res)"
      ],
      "execution_count": null,
      "outputs": [
        {
          "output_type": "stream",
          "name": "stdout",
          "text": [
            "Enter the string P  Y   T         H        O  N\n",
            "                        PYTHON\n"
          ]
        }
      ]
    },
    {
      "cell_type": "code",
      "metadata": {
        "id": "eJWGCqjS2Db4",
        "colab": {
          "base_uri": "https://localhost:8080/"
        },
        "outputId": "881ea519-6ed2-4bf2-8f73-6e5a45755f37"
      },
      "source": [
        "#Write a Python program to find the maximum occurring character in a given string.\n",
        "s=input(\"Enter the string \")\n",
        "dic={}\n",
        "for i in s:\n",
        "    if i in dic:\n",
        "        dic[i]+=1\n",
        "    else:\n",
        "        dic[i]=1\n",
        "res=max(dic, key = dic.get)\n",
        "print(res)"
      ],
      "execution_count": null,
      "outputs": [
        {
          "output_type": "stream",
          "name": "stdout",
          "text": [
            "Enter the string invited in the intership\n",
            "i\n"
          ]
        }
      ]
    },
    {
      "cell_type": "code",
      "metadata": {
        "colab": {
          "base_uri": "https://localhost:8080/"
        },
        "id": "cBp4WJfKF9lB",
        "outputId": "a0486631-4ab5-4f29-e384-96f480265385"
      },
      "source": [
        "#Write a Python program to capitalize first and last letters of each word of a given string.\n",
        "s=input(\"Enter the string \")\n",
        "s=res=s.title()\n",
        "res=\"\"\n",
        "for word in s.split():\n",
        "  res+=word[:-1]+word[-1].upper()+\" \"\n",
        "print(res[:-1])  "
      ],
      "execution_count": null,
      "outputs": [
        {
          "output_type": "stream",
          "name": "stdout",
          "text": [
            "Enter the string cdc Acropolis\n",
            "CdC AcropoliS\n"
          ]
        }
      ]
    },
    {
      "cell_type": "code",
      "metadata": {
        "colab": {
          "base_uri": "https://localhost:8080/"
        },
        "id": "vcF3nCLgJ0wj",
        "outputId": "5cf88816-3a7f-4119-cec5-0e9223f2b6e0"
      },
      "source": [
        "#Write a Python program to compute sum of digits of a given string.\n",
        "s=input(\"Enter the string \")\n",
        "sum=0\n",
        "for x in s:\n",
        "  if x.isdigit()==True:\n",
        "    z=int(x)\n",
        "    sum=sum+z\n",
        "print(sum)"
      ],
      "execution_count": null,
      "outputs": [
        {
          "output_type": "stream",
          "name": "stdout",
          "text": [
            "Enter the string CSIT 504-507\n",
            "21\n"
          ]
        }
      ]
    },
    {
      "cell_type": "code",
      "metadata": {
        "colab": {
          "base_uri": "https://localhost:8080/"
        },
        "id": "zaGvl9LQM2zF",
        "outputId": "fbe1a604-30e0-47c9-d452-b496b3992367"
      },
      "source": [
        "#Write a Python function that takes a list of words and returns the length of the longest one.\n",
        "s=list(input(\"Enter the string \").split(\" , \"))\n",
        "l=[]\n",
        "for n in s:\n",
        "  l.append((len(n), n))\n",
        "  l.sort()\n",
        "print(l[-1][1],l[-1][0])"
      ],
      "execution_count": null,
      "outputs": [
        {
          "output_type": "stream",
          "name": "stdout",
          "text": [
            "Enter the string CDC , ACROPOLIS , CSIT\n",
            "ACROPOLIS 9\n"
          ]
        }
      ]
    },
    {
      "cell_type": "code",
      "metadata": {
        "colab": {
          "base_uri": "https://localhost:8080/"
        },
        "id": "nM6XK76mPIpa",
        "outputId": "85ed8088-4521-4eb9-92e4-24e57656a5ae"
      },
      "source": [
        "#Write a function x(n) for computing an element in the sequence xn=n^2+1. Call the function for n=4 and write out the result.\n",
        "def x(n):\n",
        "  return(n**2 + 1)\n",
        "num=int(input(\"Enter the value of n \"))\n",
        "print(x(num))"
      ],
      "execution_count": null,
      "outputs": [
        {
          "output_type": "stream",
          "name": "stdout",
          "text": [
            "Enter the value of n 4\n",
            "17\n"
          ]
        }
      ]
    },
    {
      "cell_type": "code",
      "metadata": {
        "colab": {
          "base_uri": "https://localhost:8080/"
        },
        "id": "xWnJiudJQQdL",
        "outputId": "9c5d6b0c-3122-47d9-f25d-f15998de2865"
      },
      "source": [
        "'''Take the following Python code that stores a string: ‘str = 'Y-tatata-acropolis: 0.8475'. \n",
        "Use find and string slicing to extract the portion of the string after the colon character and \n",
        "then use the float function to convert the extracted string into a floating point number.'''\n",
        "string = 'Y-tatata-acropolis: 0.8475'\n",
        "col_pos = string.find(':')                  # Finds the colon character\n",
        "number = string[col_pos + 1:]                # Extracts portion after colon\n",
        "confidence = float(number)                  # Converts to floating point number\n",
        "print(confidence)"
      ],
      "execution_count": null,
      "outputs": [
        {
          "output_type": "stream",
          "name": "stdout",
          "text": [
            "0.8475\n"
          ]
        }
      ]
    },
    {
      "cell_type": "code",
      "metadata": {
        "colab": {
          "base_uri": "https://localhost:8080/"
        },
        "id": "2Wyx45TLRQFk",
        "outputId": "ce613b08-72aa-4154-8add-3652bb116d56"
      },
      "source": [
        "#Write a function that returns the middle value among three integers. \n",
        "#(Hint: make use of min() and max()). Write code to test this function with different inputs.\n",
        "def mid(a,b,c) :\n",
        "\tif a>b:\n",
        "\t\tif (b>c):\n",
        "\t\t\treturn b\n",
        "\t\telif (a>c):\n",
        "\t\t\treturn c\n",
        "\t\telse :\n",
        "\t\t\treturn a\n",
        "\telse:\n",
        "\t\tif (a>c):\n",
        "\t\t\treturn a\n",
        "\t\telif (b>c):\n",
        "\t\t\treturn c\n",
        "\t\telse :\n",
        "\t\t\treturn b\n",
        "\n",
        "a=int(input(\"Enter 1st Number \"))\n",
        "b=int(input(\"Enter 2nd Number \"))\n",
        "c=int(input(\"Enter 3rd Number \"))\n",
        "print(mid(a,b,c))"
      ],
      "execution_count": null,
      "outputs": [
        {
          "output_type": "stream",
          "name": "stdout",
          "text": [
            "Enter 1st Number 4\n",
            "Enter 2nd Number 0\n",
            "Enter 3rd Number 10\n",
            "4\n"
          ]
        }
      ]
    },
    {
      "cell_type": "code",
      "metadata": {
        "colab": {
          "base_uri": "https://localhost:8080/"
        },
        "id": "sfwVFVuESkoi",
        "outputId": "39db047e-8130-4d24-afea-dc50954b70bd"
      },
      "source": [
        "1'''Write a function that computes the area of a rectangle. \n",
        "Then, write a second function that calls this function three times to compute the surface area of a rectangular solid.'''\n",
        "def secondfun():\n",
        "  for i in range(3):\n",
        "    print(area(i+1,i+3))\n",
        "\n",
        "def area(h,w):\n",
        "  area=h*w\n",
        "  return area\n",
        "height=float(input(\"Enter the height of rectangle \"))\n",
        "width=float(input(\"Enter the width of rectangle \"))\n",
        "print(area(height,width))\n",
        "\n",
        "secondfun()"
      ],
      "execution_count": 1,
      "outputs": [
        {
          "output_type": "stream",
          "name": "stdout",
          "text": [
            "Enter the height of rectangle 5\n",
            "Enter the width of rectangle 12\n",
            "60.0\n",
            "3\n",
            "8\n",
            "15\n"
          ]
        }
      ]
    },
    {
      "cell_type": "code",
      "metadata": {
        "colab": {
          "base_uri": "https://localhost:8080/"
        },
        "id": "0bhzRB5Wi_HP",
        "outputId": "25c8fdd5-71ed-46ed-ce57-69b110d728a9"
      },
      "source": [
        "'''Create an outer function that will accept three parameters, a, b and c. Create an inner function \n",
        "inside an outer function that will calculate the addition of a, b and c. \n",
        "At last, an outer function will add 5 into addition and return it '''\n",
        "def num1(x,y,z):\n",
        "  def num2(a,b,c):\n",
        "    return a+b+c\n",
        "  outer=num2(x,y,z)+5\n",
        "  return outer\n",
        "\n",
        "a=int(input(\"Enter 1st Number \"))\n",
        "b=int(input(\"Enter 2nd Number \"))\n",
        "c=int(input(\"Enter 3rd Number \"))\n",
        "print(num1(a,b,c))"
      ],
      "execution_count": 2,
      "outputs": [
        {
          "output_type": "stream",
          "name": "stdout",
          "text": [
            "Enter 1st Number 5\n",
            "Enter 2nd Number 4\n",
            "Enter 3rd Number 5\n",
            "19\n"
          ]
        }
      ]
    },
    {
      "cell_type": "code",
      "metadata": {
        "colab": {
          "base_uri": "https://localhost:8080/"
        },
        "id": "mBvtXQjjlc8c",
        "outputId": "94f41219-fa03-482b-b03a-8ecc2c189dd0"
      },
      "source": [
        "#Write a program to create a recursive function to calculate the product of numbers from 10 to 100.\n",
        "def fun(n):\n",
        "   if n==10:\n",
        "       return n\n",
        "   else:\n",
        "       return n*fun(n-1)\n",
        "\n",
        "print(\"The product of numbers from 10 to 100 : \" \"is\", fun(100))"
      ],
      "execution_count": 3,
      "outputs": [
        {
          "output_type": "stream",
          "name": "stdout",
          "text": [
            "The product of numbers from 10 to 100 : is 257182031095525112107857249934597388918419224714455526533820998388496472644482792132224051962512451185663850090463028434334174412800000000000000000000000\n"
          ]
        }
      ]
    },
    {
      "cell_type": "code",
      "metadata": {
        "colab": {
          "base_uri": "https://localhost:8080/"
        },
        "id": "qvN-1OTbl9-_",
        "outputId": "6629d7f3-3141-44cb-c03a-bef2e119d290"
      },
      "source": [
        "#Write a Python function to calculate the factorial of a number (a non-negative integer). The function accepts the number as an argument.\n",
        "def fact(n):\n",
        "    if n==0:\n",
        "        return 1\n",
        "    else:\n",
        "        return n*fact(n-1)\n",
        "n=int(input(\"Enter a number \"))\n",
        "print(fact(n))"
      ],
      "execution_count": 4,
      "outputs": [
        {
          "output_type": "stream",
          "name": "stdout",
          "text": [
            "Enter a number 5\n",
            "120\n"
          ]
        }
      ]
    },
    {
      "cell_type": "code",
      "metadata": {
        "colab": {
          "base_uri": "https://localhost:8080/"
        },
        "id": "B1ZRtpU1mV1m",
        "outputId": "05bb2ebb-ba7f-4784-c378-cdd0b64aeb7f"
      },
      "source": [
        "#Write a Python function to display all the multiples of  7 & 9 within the range 100 to 500.\n",
        "l1=[]\n",
        "for x in range(100, 501):\n",
        "    if(x%7==0) and (x%9==0):\n",
        "        l1.append(str(x))\n",
        "print (','.join(l1))"
      ],
      "execution_count": 6,
      "outputs": [
        {
          "output_type": "stream",
          "name": "stdout",
          "text": [
            "126,189,252,315,378,441\n"
          ]
        }
      ]
    },
    {
      "cell_type": "code",
      "metadata": {
        "colab": {
          "base_uri": "https://localhost:8080/"
        },
        "id": "naSkvjlMmqcW",
        "outputId": "34c39189-6c15-4af0-afca-ed5f05dc912a"
      },
      "source": [
        "#Write a Python function  to check whether the given integer is a prime number or not.\n",
        "num=int(input(\"Enter a number \"))\n",
        "flag=False\n",
        "def prime(n):\n",
        "  flag1=False\n",
        "  if n>1:\n",
        "    for i in range(2,n):\n",
        "        if (n%i)==0:\n",
        "            flag1=True\n",
        "            break\n",
        "  return flag1\n",
        "\n",
        "flag=prime(num)\n",
        "if flag:\n",
        "    print(num, \"is not a prime number\")\n",
        "else:\n",
        "    print(num, \"is a prime number\")"
      ],
      "execution_count": 9,
      "outputs": [
        {
          "output_type": "stream",
          "name": "stdout",
          "text": [
            "Enter a number 9\n",
            "9 is not a prime number\n"
          ]
        }
      ]
    },
    {
      "cell_type": "code",
      "metadata": {
        "colab": {
          "base_uri": "https://localhost:8080/"
        },
        "id": "PfXAnYsmnDPO",
        "outputId": "d9de4566-db74-451c-8eaa-e6ded00b93a1"
      },
      "source": [
        "#Write a Python function that checks whether a passed interger is armstrong or not.\n",
        "n=int(input(\"Enter a number \"))\n",
        "def armstrong(num):\n",
        "  sum=0\n",
        "  temp=num\n",
        "  while temp>0:\n",
        "    digit=temp%10\n",
        "    sum+=digit**3\n",
        "    temp//=10\n",
        "  return sum\n",
        "\n",
        "summ=armstrong(n)\n",
        "if n == summ:\n",
        "   print(n,\"is an Armstrong number\")\n",
        "else:\n",
        "   print(n,\"is not an Armstrong number\")"
      ],
      "execution_count": 12,
      "outputs": [
        {
          "output_type": "stream",
          "name": "stdout",
          "text": [
            "Enter a number 407\n",
            "407 is an Armstrong number\n"
          ]
        }
      ]
    },
    {
      "cell_type": "code",
      "metadata": {
        "colab": {
          "base_uri": "https://localhost:8080/"
        },
        "id": "suXj1cGDngWm",
        "outputId": "f5c57bd1-026d-46cd-8537-cc320e2b32ef"
      },
      "source": [
        "#Program to return a function from another function.\n",
        "def B():\n",
        "\tprint(\"Inside the method B.\")\n",
        "def A():\n",
        "\tprint(\"Inside the method A.\")\n",
        "\treturn B\n",
        "\n",
        "returned_function = A()\n",
        "\n",
        "returned_function()"
      ],
      "execution_count": 13,
      "outputs": [
        {
          "output_type": "stream",
          "name": "stdout",
          "text": [
            "Inside the method A.\n",
            "Inside the method B.\n"
          ]
        }
      ]
    },
    {
      "cell_type": "code",
      "metadata": {
        "colab": {
          "base_uri": "https://localhost:8080/"
        },
        "id": "KyhaEgCPnzRk",
        "outputId": "29c4a955-68d4-46ee-bae0-4e86daf260f1"
      },
      "source": [
        "'''First, def a function, start_process, that takes one argument p. Then, if the start_process function receives an p equal to \"Yes\", \n",
        "it should return \"Start Process\" Alternatively, elif p is equal to \"No\", then the function should return \"Start Process Aborted\". \n",
        "Finally, if start_process gets anything other than those inputs, the function should return \"Sorry for the input\".'''\n",
        "def start_process(p):\n",
        "  if p==\"Yes\":\n",
        "    return \"Start Process\"\n",
        "  elif p==\"No\":\n",
        "    return \"Start Process Aborted\"\n",
        "  else:\n",
        "    return \"Sorry for the input\"\n",
        "\n",
        "command= input(\"Enter a command: \")\n",
        "print(start_process(command))"
      ],
      "execution_count": 16,
      "outputs": [
        {
          "output_type": "stream",
          "name": "stdout",
          "text": [
            "Enter a command: No\n",
            "Start Process Aborted\n"
          ]
        }
      ]
    },
    {
      "cell_type": "code",
      "metadata": {
        "colab": {
          "base_uri": "https://localhost:8080/"
        },
        "id": "Tfdp5oxlo2yz",
        "outputId": "c4bf74f3-d42c-42a0-8c12-7b3d3ab6ef48"
      },
      "source": [
        "'''First, def a function called calculate_distance, with one argument (choose any argument name you like). \n",
        "If the type of the argument is either int or float, the function should return the absolute value of the function input. \n",
        "Otherwise, the function should return \"No value\". Check if it works calling the function with  9.6 and \"what?\".'''\n",
        "def calculate_distance(argument):\n",
        "  if type(argument)==int or type(argument)==float:\n",
        "      print(abs(argument))\n",
        "  else:\n",
        "      print(\"No value\")\n",
        "\n",
        "calculate_distance(9.6)\n",
        "calculate_distance(\"what?\")"
      ],
      "execution_count": 21,
      "outputs": [
        {
          "output_type": "stream",
          "name": "stdout",
          "text": [
            "9.6\n",
            "No value\n"
          ]
        }
      ]
    },
    {
      "cell_type": "code",
      "metadata": {
        "colab": {
          "base_uri": "https://localhost:8080/"
        },
        "id": "qmgLdJZSqQfn",
        "outputId": "b151d7bb-3aac-4b5e-d8fe-58328257a43b"
      },
      "source": [
        "#Python program to display the sum of input (n) numbers using a list.\n",
        "l1=list(input(\"Enter the list \").split(\" , \"))\n",
        "sum=0\n",
        "for i in range(0, len(l1)):\n",
        "    sum=sum+int(l1[i])\n",
        " \n",
        "print(\"Sum of all elements is\",sum)"
      ],
      "execution_count": 23,
      "outputs": [
        {
          "output_type": "stream",
          "name": "stdout",
          "text": [
            "Enter the list 5 , 10 , 20 , 30 , 80\n",
            "Sum of all elements is 145\n"
          ]
        }
      ]
    },
    {
      "cell_type": "code",
      "metadata": {
        "colab": {
          "base_uri": "https://localhost:8080/"
        },
        "id": "US5hD1MHrOid",
        "outputId": "d7c12841-821a-45a2-fa78-e94cc164cd38"
      },
      "source": [
        "#Python program to insert a number to given position in a list.\n",
        "l1=list(input(\"Enter the list \").split(\" , \"))\n",
        "k=int(input(\"Enter the position \"))\n",
        "x=input(\"Enter the element to be inserted \")\n",
        "def fun1(x,l1,pos):\n",
        "    return l1[:pos-1]+[x]+l1[pos-1:]\n",
        "\n",
        "res=fun1(x,l1,k)\n",
        "print(res)"
      ],
      "execution_count": 29,
      "outputs": [
        {
          "output_type": "stream",
          "name": "stdout",
          "text": [
            "Enter the list acropolis , cdc , edc\n",
            "Enter the position 2\n",
            "Enter the element to be inserted csit\n",
            "['acropolis', 'csit', 'cdc', 'edc']\n"
          ]
        }
      ]
    },
    {
      "cell_type": "code",
      "metadata": {
        "colab": {
          "base_uri": "https://localhost:8080/"
        },
        "id": "KHp9geW2teaE",
        "outputId": "8e31e2f5-efa6-42bb-fac8-41ad55db08ce"
      },
      "source": [
        "'''Write the program that prompts the user for a list of numbers and prints out the maximum and \n",
        "minimum of the numbers at the end when the user enters “done”. Write the program to store the numbers \n",
        "the user enters in a list and use the max() and min() functions to compute the maximum and minimum numbers after the loop completes.'''\n",
        "my_list=[]                     \n",
        "while True:\n",
        "    number=0.0\n",
        "    input_number=input('Enter a number: ')\n",
        "    if input_number=='done':\n",
        "        break\n",
        "    try:\n",
        "        number=float(input_number)\n",
        "    except ValueError:\n",
        "        print('Invalid input')\n",
        "        quit()\n",
        "    my_list.append(number)\n",
        "if my_list:\n",
        "    print('Maximum: ', max(my_list) or None)\n",
        "    print('Minimum: ', min(my_list) or None)"
      ],
      "execution_count": 30,
      "outputs": [
        {
          "output_type": "stream",
          "name": "stdout",
          "text": [
            "Enter a number: 5\n",
            "Enter a number: 15\n",
            "Enter a number: 25\n",
            "Enter a number: 30\n",
            "Enter a number: done\n",
            "Maximum:  30.0\n",
            "Minimum:  5.0\n"
          ]
        }
      ]
    },
    {
      "cell_type": "code",
      "metadata": {
        "colab": {
          "base_uri": "https://localhost:8080/"
        },
        "id": "EFbHWJjRuFai",
        "outputId": "88e79a29-2f4c-4372-dce8-0e2b523b3176"
      },
      "source": [
        "#Write another program that prompts for a list of numbers as above and at the end prints out both the maximum and minimum of the numbers.\n",
        "my_list=[]                     \n",
        "while True:\n",
        "    number=0.0\n",
        "    input_number=input('Enter a number ')\n",
        "    if input_number=='done':\n",
        "        break\n",
        "    try:\n",
        "        number = float(input_number)\n",
        "    except ValueError:\n",
        "        print('Invalid input')\n",
        "        quit()\n",
        "\n",
        "    my_list.append(number)\n",
        "\n",
        "if my_list:\n",
        "    print('Maximum: ', max(my_list) or None)\n",
        "    print('Minimum: ', min(my_list) or None)"
      ],
      "execution_count": 31,
      "outputs": [
        {
          "output_type": "stream",
          "name": "stdout",
          "text": [
            "Enter a number 3\n",
            "Enter a number 4\n",
            "Enter a number 9\n",
            "Enter a number 1\n",
            "Enter a number done\n",
            "Maximum:  9.0\n",
            "Minimum:  1.0\n"
          ]
        }
      ]
    },
    {
      "cell_type": "code",
      "metadata": {
        "colab": {
          "base_uri": "https://localhost:8080/"
        },
        "id": "KTP59JYbujDY",
        "outputId": "111b8948-348c-4dbb-f3a9-7f4ecacd0fe2"
      },
      "source": [
        "#Python program to delete an element from a list by index which is given by the user.\n",
        "l1=list(input(\"Enter the list \").split(\" , \"))\n",
        "k=int(input(\"Enter the index from which the element to be deleted \"))\n",
        "l1.pop(k)\n",
        "print(l1)"
      ],
      "execution_count": 32,
      "outputs": [
        {
          "output_type": "stream",
          "name": "stdout",
          "text": [
            "Enter the list acropolis , csit , edc , cdc\n",
            "Enter the index from which the element to be deleted 3\n",
            "['acropolis', 'csit', 'edc']\n"
          ]
        }
      ]
    },
    {
      "cell_type": "code",
      "metadata": {
        "colab": {
          "base_uri": "https://localhost:8080/"
        },
        "id": "onMV_h_GvYIP",
        "outputId": "52ed6fc7-4573-44cd-ae7d-87ca33641ab9"
      },
      "source": [
        "#Write a Python program to print a specified list after removing the 1st, 2nd and 5th elements.\n",
        "color = ['Red', 'Green', 'White', 'Black', 'Pink', 'Yellow']\n",
        "color = [x for (i,x) in enumerate(color) if i not in (1,2,5)]\n",
        "print(color)"
      ],
      "execution_count": 33,
      "outputs": [
        {
          "output_type": "stream",
          "name": "stdout",
          "text": [
            "['Red', 'Black', 'Pink']\n"
          ]
        }
      ]
    },
    {
      "cell_type": "code",
      "metadata": {
        "colab": {
          "base_uri": "https://localhost:8080/"
        },
        "id": "UJV4r16_vyCW",
        "outputId": "73d95214-f204-422e-88ed-b05bdc3097ca"
      },
      "source": [
        "#Write a Python program to generate all sublists of a list.\n",
        "from itertools import combinations\n",
        "def sub_lists(my_list):\n",
        "\tsubs = []\n",
        "\tfor i in range(0, len(my_list)+1):\n",
        "\t  temp = [list(x) for x in combinations(my_list, i)]\n",
        "\t  if len(temp)>0:\n",
        "\t    subs.extend(temp)\n",
        "\treturn subs\n",
        "\n",
        "\n",
        "l1 = [10, 20, 30, 40]\n",
        "l2 = ['X', 'Y', 'Z']\n",
        "print(\"Original list:\")\n",
        "print(l1)\n",
        "print(\"S\")\n",
        "print(sub_lists(l1))\n",
        "print(\"Sublists of the said list:\")\n",
        "print(sub_lists(l1))\n",
        "print(\"\\nOriginal list:\")\n",
        "print(l2)\n",
        "print(\"Sublists of the said list:\")\n",
        "print(sub_lists(l2))"
      ],
      "execution_count": 34,
      "outputs": [
        {
          "output_type": "stream",
          "name": "stdout",
          "text": [
            "Original list:\n",
            "[10, 20, 30, 40]\n",
            "S\n",
            "[[], [10], [20], [30], [40], [10, 20], [10, 30], [10, 40], [20, 30], [20, 40], [30, 40], [10, 20, 30], [10, 20, 40], [10, 30, 40], [20, 30, 40], [10, 20, 30, 40]]\n",
            "Sublists of the said list:\n",
            "[[], [10], [20], [30], [40], [10, 20], [10, 30], [10, 40], [20, 30], [20, 40], [30, 40], [10, 20, 30], [10, 20, 40], [10, 30, 40], [20, 30, 40], [10, 20, 30, 40]]\n",
            "\n",
            "Original list:\n",
            "['X', 'Y', 'Z']\n",
            "Sublists of the said list:\n",
            "[[], ['X'], ['Y'], ['Z'], ['X', 'Y'], ['X', 'Z'], ['Y', 'Z'], ['X', 'Y', 'Z']]\n"
          ]
        }
      ]
    },
    {
      "cell_type": "code",
      "metadata": {
        "colab": {
          "base_uri": "https://localhost:8080/"
        },
        "id": "Q4KEDb-Nv9xc",
        "outputId": "e7c27cf3-0291-42f8-e7a3-55633574968b"
      },
      "source": [
        "#Write a Python program to find all the values in a list are greater than a given number.\n",
        "list1 = [220, 330, 500]\n",
        "list2 = [12, 17, 21]\n",
        "print(all(x >= 200 for x in list1))\n",
        "print(all(x >= 15 for x in list2))"
      ],
      "execution_count": 35,
      "outputs": [
        {
          "output_type": "stream",
          "name": "stdout",
          "text": [
            "True\n",
            "False\n"
          ]
        }
      ]
    },
    {
      "cell_type": "code",
      "metadata": {
        "colab": {
          "base_uri": "https://localhost:8080/"
        },
        "id": "J4XuFatlwLqf",
        "outputId": "0b06e221-a3a1-49bc-83d2-bd4dbeb9a488"
      },
      "source": [
        "#Python program to find the even numbers in a List.\n",
        "list1 = [10, 21, 4, 45, 66, 93]\n",
        "for num in list1:\n",
        "    if num % 2 == 0:\n",
        "        print(num, end=\" \")"
      ],
      "execution_count": 36,
      "outputs": [
        {
          "output_type": "stream",
          "name": "stdout",
          "text": [
            "10 4 66 "
          ]
        }
      ]
    }
  ]
}