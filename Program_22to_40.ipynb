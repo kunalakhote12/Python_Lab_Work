{
  "nbformat": 4,
  "nbformat_minor": 0,
  "metadata": {
    "colab": {
      "name": "Program_22to_40.ipynb",
      "provenance": [],
      "collapsed_sections": []
    },
    "kernelspec": {
      "name": "python3",
      "display_name": "Python 3"
    },
    "language_info": {
      "name": "python"
    }
  },
  "cells": [
    {
      "cell_type": "code",
      "metadata": {
        "colab": {
          "base_uri": "https://localhost:8080/"
        },
        "id": "CW8pmy3x21z0",
        "outputId": "e8aaf273-1378-437e-d21c-e22d911c85e4"
      },
      "source": [
        "#Program to reverse a given Number.    ex: n=123   Reversed no is 321\n",
        "num=int(input(\"Enter the number to be reversed \"))\n",
        "rev=0\n",
        "while num>0:\n",
        "  rev=(rev*10)+(num%10)\n",
        "  num=num//10\n",
        "print(\"Reverse\",rev)"
      ],
      "execution_count": 2,
      "outputs": [
        {
          "output_type": "stream",
          "name": "stdout",
          "text": [
            "Enter the number to be reversed 7896\n",
            "Reverse 6987\n"
          ]
        }
      ]
    },
    {
      "cell_type": "code",
      "metadata": {
        "colab": {
          "base_uri": "https://localhost:8080/"
        },
        "id": "hve5u8Rj39CF",
        "outputId": "c9a95bb8-4de7-4ff2-df33-f2a71fe898a7"
      },
      "source": [
        "#Program to check whether a given number is a palindrome or not\n",
        "num=int(input(\"Enter the number to be checked \"))\n",
        "temp=num\n",
        "rev=0\n",
        "while num>0:\n",
        "  rev=(rev*10)+(num%10)\n",
        "  num=num//10\n",
        "if temp==rev:\n",
        "  print(\"The entered number is palindrome.\")\n",
        "else:\n",
        "  print(\"The entered number is not palindrome.\")"
      ],
      "execution_count": 6,
      "outputs": [
        {
          "output_type": "stream",
          "name": "stdout",
          "text": [
            "Enter the number to be checked 12321\n",
            "The entered number is palindrome.\n"
          ]
        }
      ]
    },
    {
      "cell_type": "code",
      "metadata": {
        "colab": {
          "base_uri": "https://localhost:8080/"
        },
        "id": "UV8g9FMW6dx2",
        "outputId": "7fc60996-d51c-4089-9c29-fdf455af3d63"
      },
      "source": [
        "#Program to check whether a given number is an Armstrong number or not.\n",
        "num=int(input(\"Enter the number to be checked \"))\n",
        "sum=0\n",
        "for i in str(num):\n",
        "  sum=sum+((int(i))**3)\n",
        "if num==sum:\n",
        "  print(\"The entered number is Armstrong number.\")\n",
        "else:\n",
        "  print(\"The entered number is not Armstrong number.\")"
      ],
      "execution_count": 13,
      "outputs": [
        {
          "output_type": "stream",
          "name": "stdout",
          "text": [
            "Enter the number to be checked 52\n",
            "The entered number is not Armstrong number.\n"
          ]
        }
      ]
    },
    {
      "cell_type": "code",
      "metadata": {
        "colab": {
          "base_uri": "https://localhost:8080/"
        },
        "id": "OzTSXva59g2h",
        "outputId": "5d4bb6c2-0752-4bcc-a8f9-202414f4537c"
      },
      "source": [
        "#Program to find factorial of a given number.\n",
        "num=int(input(\"Enter a number \"))\n",
        "fac=1\n",
        "while num>1:\n",
        "  fac=fac*num\n",
        "  num-=1\n",
        "print(\"Factorial :\",fac)"
      ],
      "execution_count": 17,
      "outputs": [
        {
          "output_type": "stream",
          "name": "stdout",
          "text": [
            "Enter a number 50\n",
            "Factorial : 30414093201713378043612608166064768844377641568960512000000000000\n"
          ]
        }
      ]
    },
    {
      "cell_type": "code",
      "metadata": {
        "colab": {
          "base_uri": "https://localhost:8080/"
        },
        "id": "enDzZn4MApni",
        "outputId": "f6d449cb-49bc-4b6f-cbf8-62d0db3aed7e"
      },
      "source": [
        "#Program to find whether a given number is a strong number or not.\n",
        "#  e.g. n=145   1!+4!+5!==145\n",
        "\n",
        "def fact(n):\n",
        "  fac=1\n",
        "  while n>1:\n",
        "    fac=fac*n\n",
        "    n-=1\n",
        "  return fac\n",
        "\n",
        "num=int(input(\"Enter the number to be checked \"))\n",
        "sum=0\n",
        "for i in str(num):\n",
        "  sum=sum+fact(int(i))\n",
        "if sum==num:\n",
        "  print(\"The entered number is strong number.\")\n",
        "else:\n",
        "  print(\"The entered number is not a strong number.\")"
      ],
      "execution_count": 22,
      "outputs": [
        {
          "output_type": "stream",
          "name": "stdout",
          "text": [
            "Enter the number to be checked 40585\n",
            "The entered number is strong number.\n"
          ]
        }
      ]
    },
    {
      "cell_type": "code",
      "metadata": {
        "colab": {
          "base_uri": "https://localhost:8080/"
        },
        "id": "PLAGQ02zDmze",
        "outputId": "8de64ee7-e36a-49f7-a3b2-b11ac71eb2d5"
      },
      "source": [
        "#Program to find whether a given number is a unique number. \n",
        "#For example, 20, 56, 9863, 145, etc. are the unique numbers while 33, 121, 900, 1010, etc. are not unique numbers\n",
        "num=int(input(\"Enter a number \"))\n",
        "num1=num\n",
        "num2=num\n",
        "count=0\n",
        "while(num1>0):\n",
        "  r1=num1%10\n",
        "  while(num2>0):\n",
        "    r2=num2%10\n",
        "    if r1==r2:\n",
        "      count+=1\n",
        "    num2=num2//10\n",
        "  num1=num1//10\n",
        "if count==1:\n",
        "  print(\"The entered number is unique.\")\n",
        "else:\n",
        "  print(\"The entered number is not unique.\")"
      ],
      "execution_count": 30,
      "outputs": [
        {
          "output_type": "stream",
          "name": "stdout",
          "text": [
            "Enter a number 121\n",
            "The entered number is not unique.\n"
          ]
        }
      ]
    },
    {
      "cell_type": "code",
      "metadata": {
        "colab": {
          "base_uri": "https://localhost:8080/"
        },
        "id": "RcRNmD30U1_H",
        "outputId": "da6ca02e-5352-485d-ec25-8f14274b6a97"
      },
      "source": [
        "#Program to find whether a given number is a perfect number or not.\n",
        "num=int(input(\"Enter the number \"))\n",
        "sum=0\n",
        "for i in range(1,num):\n",
        "  if num%i==0:\n",
        "    sum=sum+i\n",
        "if sum==num:\n",
        "  print(\"The entered number is perfect number.\")\n",
        "else:\n",
        "  print(\"The entered number is not a perfect number.\")"
      ],
      "execution_count": 35,
      "outputs": [
        {
          "output_type": "stream",
          "name": "stdout",
          "text": [
            "Enter the number 496\n",
            "The entered number is perfect number.\n"
          ]
        }
      ]
    },
    {
      "cell_type": "code",
      "metadata": {
        "colab": {
          "base_uri": "https://localhost:8080/"
        },
        "id": "UluILumnZyGn",
        "outputId": "a2ff9e3e-b30e-460e-8787-9c75d10f78cc"
      },
      "source": [
        "#Program to find whether a given number is a prime number or not.\n",
        "num=int(input(\"Enter a number \"))\n",
        "flag=0\n",
        "for i in range(2,num):\n",
        "  if num%i==0:\n",
        "    print(\"The entered number is not a prime number.\")\n",
        "    flag=1\n",
        "    break\n",
        "if flag==0:\n",
        "  print(\"The entered number is a prime number.\")"
      ],
      "execution_count": 46,
      "outputs": [
        {
          "output_type": "stream",
          "name": "stdout",
          "text": [
            "Enter a number 8\n",
            "The entered number is not a prime number.\n"
          ]
        }
      ]
    },
    {
      "cell_type": "code",
      "metadata": {
        "colab": {
          "base_uri": "https://localhost:8080/"
        },
        "id": "1BPN83qPbqIF",
        "outputId": "34593347-6dff-47bf-e553-ba3d5de43afd"
      },
      "source": [
        "'''Print downward Half-Pyramid Pattern with Star (asterisk)\n",
        "* * * * *  \n",
        "* * * *  \n",
        "* * *  \n",
        "* *  \n",
        "*'''\n",
        "n=int(input(\"Enter the number of rows \"))\n",
        "for i in range(n,0,-1):\n",
        "  print('* '*i)"
      ],
      "execution_count": 49,
      "outputs": [
        {
          "output_type": "stream",
          "name": "stdout",
          "text": [
            "Enter the number of rows 5\n",
            "* * * * * \n",
            "* * * * \n",
            "* * * \n",
            "* * \n",
            "* \n"
          ]
        }
      ]
    },
    {
      "cell_type": "code",
      "metadata": {
        "colab": {
          "base_uri": "https://localhost:8080/"
        },
        "id": "l78Zglk3cNBA",
        "outputId": "f555b893-53da-4cf7-c2f5-cd9c4ce30a67"
      },
      "source": [
        "'''Print  following pattern: \n",
        "1\n",
        "22\n",
        "333\n",
        "4444\n",
        "55555\n",
        "666666\n",
        "7777777\n",
        "88888888\n",
        "999999999\n",
        "'''\n",
        "n=int(input(\"Enter the number of rows \"))\n",
        "for i in range(1,n+1):\n",
        "  print(str(i)*i)"
      ],
      "execution_count": 51,
      "outputs": [
        {
          "output_type": "stream",
          "name": "stdout",
          "text": [
            "Enter the number of rows 9\n",
            "1\n",
            "22\n",
            "333\n",
            "4444\n",
            "55555\n",
            "666666\n",
            "7777777\n",
            "88888888\n",
            "999999999\n"
          ]
        }
      ]
    },
    {
      "cell_type": "code",
      "metadata": {
        "colab": {
          "base_uri": "https://localhost:8080/"
        },
        "id": "JIfYLsM2clnT",
        "outputId": "5eb3f03f-bb4a-4ef5-d2b2-d19332c7ab46"
      },
      "source": [
        "'''Print  following pattern: \n",
        "1\n",
        "12\n",
        "123\n",
        "1234\n",
        "12345\n",
        "123456\n",
        "1234567\n",
        "12345678\n",
        "123456789\n",
        "'''\n",
        "n=int(input(\"Enter the number of rows \"))\n",
        "for i in range(1,n+1):\n",
        "  for j in range(1,i+1):\n",
        "    print(j,end='')\n",
        "  print(\"\")"
      ],
      "execution_count": 53,
      "outputs": [
        {
          "output_type": "stream",
          "name": "stdout",
          "text": [
            "Enter the number of rows 9\n",
            "1\n",
            "12\n",
            "123\n",
            "1234\n",
            "12345\n",
            "123456\n",
            "1234567\n",
            "12345678\n",
            "123456789\n"
          ]
        }
      ]
    },
    {
      "cell_type": "code",
      "metadata": {
        "colab": {
          "base_uri": "https://localhost:8080/"
        },
        "id": "J0vwZhamdCt3",
        "outputId": "929d1777-21fd-45a6-d377-7e9bd180f3b9"
      },
      "source": [
        "'''Print following pattern: \n",
        "A\n",
        "BB\n",
        "CCC\n",
        "DDDD\n",
        "EEEEE\n",
        "FFFFFF\n",
        "GGGGGGG\n",
        "FFFFFFFF\n",
        "'''\n",
        "n=int(input(\"Enter the number of rows \"))\n",
        "for i in range(1,n+1):\n",
        "  print(chr(64+i)*i)"
      ],
      "execution_count": 58,
      "outputs": [
        {
          "output_type": "stream",
          "name": "stdout",
          "text": [
            "Enter the number of rows 8\n",
            "A\n",
            "BB\n",
            "CCC\n",
            "DDDD\n",
            "EEEEE\n",
            "FFFFFF\n",
            "GGGGGGG\n",
            "HHHHHHHH\n"
          ]
        }
      ]
    },
    {
      "cell_type": "code",
      "metadata": {
        "colab": {
          "base_uri": "https://localhost:8080/"
        },
        "id": "3o27jE5edSgp",
        "outputId": "5c6540cf-4b68-4d4f-f2f3-60e8902b02ec"
      },
      "source": [
        "#Write a Python program to calculate the length of a given string.\n",
        "\n",
        "s1=input(\"Enter the string \")\n",
        "ln=0\n",
        "for i in s1:\n",
        "  ln+=1;\n",
        "print(\"Lenght :\",ln)\n",
        "print(len(s1))"
      ],
      "execution_count": 85,
      "outputs": [
        {
          "output_type": "stream",
          "name": "stdout",
          "text": [
            "Enter the string Python Work\n",
            "Lenght : 11\n",
            "11\n"
          ]
        }
      ]
    },
    {
      "cell_type": "code",
      "metadata": {
        "colab": {
          "base_uri": "https://localhost:8080/"
        },
        "id": "GgeZTt7ufqzS",
        "outputId": "c83923e1-4708-43c6-d604-9e3ec403d57f"
      },
      "source": [
        "#Write a Python program to get a single string from two given strings, separated by a space and swap the first characters of each string.\n",
        "# Sample String : 'abc', 'xyz' \n",
        "# Expected Result : 'xbc ayz'\n",
        "a,b=input(\"Enter the string \").split(\", \")\n",
        "temp=a[0:1]\n",
        " \n",
        "a=a.replace(a[0:1],b[0:1])\n",
        " \n",
        "b=b.replace(b[0:1],temp)\n",
        "print(a,b)"
      ],
      "execution_count": 75,
      "outputs": [
        {
          "output_type": "stream",
          "name": "stdout",
          "text": [
            "Enter the string abc, xyz\n",
            "xbc ayz\n"
          ]
        }
      ]
    },
    {
      "cell_type": "code",
      "metadata": {
        "colab": {
          "base_uri": "https://localhost:8080/"
        },
        "id": "9N861X1VkZRH",
        "outputId": "bbb79332-b4ef-406f-d110-4751af983781"
      },
      "source": [
        "'''Write a Python program to add 'polis' at the end of a given string (length should be at least 3).\n",
        "  If the given string already ends with 'polis' then add 'polisCS' instead.\n",
        "  If the string length of the given string is less than 3, leave it unchanged. \n",
        " Sample String : 'abc'\n",
        " Expected Result : 'abcpolisCS' \n",
        " Sample String : 'Acropolis'\n",
        " Expected Result : 'AcropolisCS'''\n",
        "\n",
        "s=input(\"Enter a string \")\n",
        "length=len(s)\n",
        "if length>2:\n",
        "  if s[-5:]=='polis':\n",
        "      s+='CS'\n",
        "  else:\n",
        "      s+='polis'\n",
        "print(s)"
      ],
      "execution_count": 91,
      "outputs": [
        {
          "output_type": "stream",
          "name": "stdout",
          "text": [
            "Enter a string AcropolisCS\n",
            "AcropolisCSpolis\n"
          ]
        }
      ]
    },
    {
      "cell_type": "code",
      "metadata": {
        "colab": {
          "base_uri": "https://localhost:8080/"
        },
        "id": "qhFxolzvn2OC",
        "outputId": "41c74fa6-a83e-4637-d5e8-6ac9c4250ace"
      },
      "source": [
        "'''Write a Python program to count the number of characters (character frequency) in a string. \n",
        " Sample String : google.com'\n",
        " Expected Result : {'o': 3, 'g': 2, '.': 1, 'e': 1, 'l': 1, 'm': 1, 'c': 1}'''\n",
        "s=input(\"Enter a string \")\n",
        "d1={}\n",
        "for n in s:\n",
        "  k=d1.keys()\n",
        "  if n in k:\n",
        "    d1[n]+=1\n",
        "  else:\n",
        "    d1[n]=1\n",
        "print(d1)"
      ],
      "execution_count": 94,
      "outputs": [
        {
          "output_type": "stream",
          "name": "stdout",
          "text": [
            "Enter a string google.com\n",
            "{'g': 2, 'o': 3, 'l': 1, 'e': 1, '.': 1, 'c': 1, 'm': 1}\n"
          ]
        }
      ]
    },
    {
      "cell_type": "code",
      "metadata": {
        "colab": {
          "base_uri": "https://localhost:8080/"
        },
        "id": "UI5EiWSDqmRv",
        "outputId": "6491b985-d3a8-4c71-b85e-97b26b944141"
      },
      "source": [
        "#Write a Python program to change a given string to a new string where the second and last chars have been exchanged.\n",
        "s=input(\"Enter a string \")\n",
        "rs=s[-1:] + s[1:-1] + s[:1]\n",
        "print(rs)"
      ],
      "execution_count": 96,
      "outputs": [
        {
          "output_type": "stream",
          "name": "stdout",
          "text": [
            "Enter a string Kamal\n",
            "lamaK\n"
          ]
        }
      ]
    },
    {
      "cell_type": "code",
      "metadata": {
        "colab": {
          "base_uri": "https://localhost:8080/"
        },
        "id": "v8tHWRXJsFwM",
        "outputId": "990cf781-63e5-4ccd-cde1-0a9ec5516294"
      },
      "source": [
        "#Write a Python program to remove the characters which have even index values of a given string.\n",
        "s=input(\"Enter a string \")\n",
        "rs=\"\"\n",
        "for i in range(len(s)):\n",
        "  if i%2!=0:\n",
        "      rs=rs+s[i]\n",
        "print(rs)"
      ],
      "execution_count": 97,
      "outputs": [
        {
          "output_type": "stream",
          "name": "stdout",
          "text": [
            "Enter a string abcdef\n",
            "bdf\n"
          ]
        }
      ]
    },
    {
      "cell_type": "code",
      "metadata": {
        "colab": {
          "base_uri": "https://localhost:8080/"
        },
        "id": "dzYmcFfNtHaB",
        "outputId": "2990e45a-7450-4ae6-9331-eafba0cc052d"
      },
      "source": [
        "#Write a Python program that takes input from the user and displays that input back in upper and lower cases.\n",
        "s=input(\"Enter the string \")\n",
        "print(s.upper())\n",
        "print(s.lower())"
      ],
      "execution_count": 98,
      "outputs": [
        {
          "output_type": "stream",
          "name": "stdout",
          "text": [
            "Enter the string AcroCSIT\n",
            "ACROCSIT\n",
            "acrocsit\n"
          ]
        }
      ]
    }
  ]
}