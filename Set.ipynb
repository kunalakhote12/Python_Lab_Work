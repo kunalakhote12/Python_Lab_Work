{
  "nbformat": 4,
  "nbformat_minor": 0,
  "metadata": {
    "colab": {
      "name": "Set.ipynb",
      "provenance": [],
      "collapsed_sections": []
    },
    "kernelspec": {
      "name": "python3",
      "display_name": "Python 3"
    },
    "language_info": {
      "name": "python"
    }
  },
  "cells": [
    {
      "cell_type": "code",
      "metadata": {
        "id": "CfE-Cu3_cxbH"
      },
      "source": [
        "my_set={1,2,3}"
      ],
      "execution_count": 1,
      "outputs": []
    },
    {
      "cell_type": "code",
      "metadata": {
        "colab": {
          "base_uri": "https://localhost:8080/"
        },
        "id": "IShzvTB7dZLO",
        "outputId": "c21d5f1c-e108-4b3d-9978-6b09cb035fcb"
      },
      "source": [
        "print(my_set)"
      ],
      "execution_count": 2,
      "outputs": [
        {
          "output_type": "stream",
          "name": "stdout",
          "text": [
            "{1, 2, 3}\n"
          ]
        }
      ]
    },
    {
      "cell_type": "code",
      "metadata": {
        "id": "YqjxaRP3deIm"
      },
      "source": [
        "my_set={5.654,\"Python\",(1,2,3)}#Set can have only float int tuple string values as set's elements are immutable \n",
        "#but set itself is mutable "
      ],
      "execution_count": 3,
      "outputs": []
    },
    {
      "cell_type": "code",
      "metadata": {
        "colab": {
          "base_uri": "https://localhost:8080/"
        },
        "id": "usPXWVk7dppd",
        "outputId": "a6415bd2-b0c3-4ce9-a929-f0beadc2fc48"
      },
      "source": [
        "print(my_set)"
      ],
      "execution_count": 4,
      "outputs": [
        {
          "output_type": "stream",
          "name": "stdout",
          "text": [
            "{5.654, (1, 2, 3), 'Python'}\n"
          ]
        }
      ]
    },
    {
      "cell_type": "code",
      "metadata": {
        "colab": {
          "base_uri": "https://localhost:8080/",
          "height": 163
        },
        "id": "qotsR9_eeToZ",
        "outputId": "624a0e0b-a9c2-4a42-b7a3-61733e60ad03"
      },
      "source": [
        "my_set={1.123,\"python\",[1,2,3]}\n",
        "#This code will give error as we know that the element of set is immutable and list is mutable\n",
        "#so [1,2,3] can't be a element in set"
      ],
      "execution_count": 5,
      "outputs": [
        {
          "output_type": "error",
          "ename": "TypeError",
          "evalue": "ignored",
          "traceback": [
            "\u001b[0;31m---------------------------------------------------------------------------\u001b[0m",
            "\u001b[0;31mTypeError\u001b[0m                                 Traceback (most recent call last)",
            "\u001b[0;32m<ipython-input-5-921fcf022184>\u001b[0m in \u001b[0;36m<module>\u001b[0;34m()\u001b[0m\n\u001b[0;32m----> 1\u001b[0;31m \u001b[0mmy_set\u001b[0m\u001b[0;34m=\u001b[0m\u001b[0;34m{\u001b[0m\u001b[0;36m1.123\u001b[0m\u001b[0;34m,\u001b[0m\u001b[0;34m\"python\"\u001b[0m\u001b[0;34m,\u001b[0m\u001b[0;34m[\u001b[0m\u001b[0;36m1\u001b[0m\u001b[0;34m,\u001b[0m\u001b[0;36m2\u001b[0m\u001b[0;34m,\u001b[0m\u001b[0;36m3\u001b[0m\u001b[0;34m]\u001b[0m\u001b[0;34m}\u001b[0m\u001b[0;34m\u001b[0m\u001b[0;34m\u001b[0m\u001b[0m\n\u001b[0m",
            "\u001b[0;31mTypeError\u001b[0m: unhashable type: 'list'"
          ]
        }
      ]
    },
    {
      "cell_type": "code",
      "metadata": {
        "colab": {
          "base_uri": "https://localhost:8080/"
        },
        "id": "zjpz_a1Zev2a",
        "outputId": "cbc10af4-31b5-4885-e00b-6db32c7a9d5d"
      },
      "source": [
        "my_set=([1,2,3]) #Here {} is not used so that why it is considered as list\n",
        "print(my_set)\n",
        "type(my_set)"
      ],
      "execution_count": 7,
      "outputs": [
        {
          "output_type": "stream",
          "name": "stdout",
          "text": [
            "[1, 2, 3]\n"
          ]
        },
        {
          "output_type": "execute_result",
          "data": {
            "text/plain": [
              "list"
            ]
          },
          "metadata": {},
          "execution_count": 7
        }
      ]
    },
    {
      "cell_type": "code",
      "metadata": {
        "colab": {
          "base_uri": "https://localhost:8080/"
        },
        "id": "euY9AcKHfa92",
        "outputId": "b6a6bff3-b05c-4122-febe-7ca6fa90073a"
      },
      "source": [
        "a={} #here empty {} will define dictionary to define set we have to use set function\n",
        "print(a)\n",
        "type(a)"
      ],
      "execution_count": 8,
      "outputs": [
        {
          "output_type": "stream",
          "name": "stdout",
          "text": [
            "{}\n"
          ]
        },
        {
          "output_type": "execute_result",
          "data": {
            "text/plain": [
              "dict"
            ]
          },
          "metadata": {},
          "execution_count": 8
        }
      ]
    },
    {
      "cell_type": "code",
      "metadata": {
        "colab": {
          "base_uri": "https://localhost:8080/"
        },
        "id": "ImdPEe51gvxQ",
        "outputId": "4e0c6df5-8d06-4b5e-af0c-79edcb80ea63"
      },
      "source": [
        "a=set()\n",
        "print(a)\n",
        "type(a)"
      ],
      "execution_count": 9,
      "outputs": [
        {
          "output_type": "stream",
          "name": "stdout",
          "text": [
            "set()\n"
          ]
        },
        {
          "output_type": "execute_result",
          "data": {
            "text/plain": [
              "set"
            ]
          },
          "metadata": {},
          "execution_count": 9
        }
      ]
    },
    {
      "cell_type": "code",
      "metadata": {
        "colab": {
          "base_uri": "https://localhost:8080/"
        },
        "id": "wTnrNhxFg1zg",
        "outputId": "eded716e-1d2a-4286-e31f-4c3613bd630e"
      },
      "source": [
        "my=set([1,2,3]) #Here it is accepting list but treating the each element of list as the element of set\n",
        "print(my)\n",
        "type(my) "
      ],
      "execution_count": 11,
      "outputs": [
        {
          "output_type": "stream",
          "name": "stdout",
          "text": [
            "{1, 2, 3}\n"
          ]
        },
        {
          "output_type": "execute_result",
          "data": {
            "text/plain": [
              "set"
            ]
          },
          "metadata": {},
          "execution_count": 11
        }
      ]
    },
    {
      "cell_type": "code",
      "metadata": {
        "colab": {
          "base_uri": "https://localhost:8080/"
        },
        "id": "fMNdHeWDipqN",
        "outputId": "40bd8293-1d2d-497e-cacc-a101adaaa56b"
      },
      "source": [
        "my=set()\n",
        "my.add(2)\n",
        "my"
      ],
      "execution_count": 13,
      "outputs": [
        {
          "output_type": "execute_result",
          "data": {
            "text/plain": [
              "{2}"
            ]
          },
          "metadata": {},
          "execution_count": 13
        }
      ]
    },
    {
      "cell_type": "code",
      "metadata": {
        "colab": {
          "base_uri": "https://localhost:8080/"
        },
        "id": "N_fND--4jSMi",
        "outputId": "74a7bd8a-acae-4124-81b7-f200b14bd234"
      },
      "source": [
        "my.add(2) #set does not have duplicate value\n",
        "my"
      ],
      "execution_count": 14,
      "outputs": [
        {
          "output_type": "execute_result",
          "data": {
            "text/plain": [
              "{2}"
            ]
          },
          "metadata": {},
          "execution_count": 14
        }
      ]
    },
    {
      "cell_type": "code",
      "metadata": {
        "colab": {
          "base_uri": "https://localhost:8080/"
        },
        "id": "k-lbKqYwjeBD",
        "outputId": "d5439093-e147-4529-b20b-dd0e7360b494"
      },
      "source": [
        "my.update([1,2,3])\n",
        "my"
      ],
      "execution_count": 15,
      "outputs": [
        {
          "output_type": "execute_result",
          "data": {
            "text/plain": [
              "{1, 2, 3}"
            ]
          },
          "metadata": {},
          "execution_count": 15
        }
      ]
    },
    {
      "cell_type": "code",
      "metadata": {
        "colab": {
          "base_uri": "https://localhost:8080/"
        },
        "id": "PY-0hSzYjxoa",
        "outputId": "5635fd2f-2ad4-487e-851d-82b60678e06e"
      },
      "source": [
        "my.update({1,2,3}, {1,6,8})\n",
        "my #update will update more than 1 element at time and add will add 1 element in set"
      ],
      "execution_count": 16,
      "outputs": [
        {
          "output_type": "execute_result",
          "data": {
            "text/plain": [
              "{1, 2, 3, 6, 8}"
            ]
          },
          "metadata": {},
          "execution_count": 16
        }
      ]
    },
    {
      "cell_type": "code",
      "metadata": {
        "colab": {
          "base_uri": "https://localhost:8080/",
          "height": 214
        },
        "id": "ywIHeuypkWdo",
        "outputId": "a4021460-135f-485d-d987-a60292718dc4"
      },
      "source": [
        "my.remove(4) #Remove will remove the element but if the element is not present in set then it will show a traceback\n",
        "my.discard(4) #discard also remove the element but if the element is not present in set then also it doesnt show any message or traceback"
      ],
      "execution_count": 17,
      "outputs": [
        {
          "output_type": "error",
          "ename": "KeyError",
          "evalue": "ignored",
          "traceback": [
            "\u001b[0;31m---------------------------------------------------------------------------\u001b[0m",
            "\u001b[0;31mKeyError\u001b[0m                                  Traceback (most recent call last)",
            "\u001b[0;32m<ipython-input-17-cb1e3d3acf3c>\u001b[0m in \u001b[0;36m<module>\u001b[0;34m()\u001b[0m\n\u001b[0;32m----> 1\u001b[0;31m \u001b[0mmy\u001b[0m\u001b[0;34m.\u001b[0m\u001b[0mremove\u001b[0m\u001b[0;34m(\u001b[0m\u001b[0;36m4\u001b[0m\u001b[0;34m)\u001b[0m \u001b[0;31m#Remove will remove the element but if the element is not present in set then it will show a traceback\u001b[0m\u001b[0;34m\u001b[0m\u001b[0;34m\u001b[0m\u001b[0m\n\u001b[0m\u001b[1;32m      2\u001b[0m \u001b[0mmy\u001b[0m\u001b[0;34m.\u001b[0m\u001b[0mdiscard\u001b[0m\u001b[0;34m(\u001b[0m\u001b[0;36m4\u001b[0m\u001b[0;34m)\u001b[0m \u001b[0;31m#discard also remove the element but if the element is not present in set then also it doesnt show any message or traceback\u001b[0m\u001b[0;34m\u001b[0m\u001b[0;34m\u001b[0m\u001b[0m\n",
            "\u001b[0;31mKeyError\u001b[0m: 4"
          ]
        }
      ]
    },
    {
      "cell_type": "code",
      "metadata": {
        "colab": {
          "base_uri": "https://localhost:8080/"
        },
        "id": "HgO8VZBgnIAj",
        "outputId": "b9454d48-292c-43d6-aa67-090c91c3aca1"
      },
      "source": [
        "my.discard(3)\n",
        "my"
      ],
      "execution_count": 19,
      "outputs": [
        {
          "output_type": "execute_result",
          "data": {
            "text/plain": [
              "{1, 2, 6, 8}"
            ]
          },
          "metadata": {},
          "execution_count": 19
        }
      ]
    },
    {
      "cell_type": "code",
      "metadata": {
        "colab": {
          "base_uri": "https://localhost:8080/"
        },
        "id": "8FFyarMHnRJi",
        "outputId": "fea539cb-a362-477c-f52c-a1ce681159b0"
      },
      "source": [
        "my.pop()"
      ],
      "execution_count": 20,
      "outputs": [
        {
          "output_type": "execute_result",
          "data": {
            "text/plain": [
              "1"
            ]
          },
          "metadata": {},
          "execution_count": 20
        }
      ]
    },
    {
      "cell_type": "code",
      "metadata": {
        "colab": {
          "base_uri": "https://localhost:8080/"
        },
        "id": "qHZgBQR9nZHT",
        "outputId": "7d924a8e-690a-4bd4-855a-c883b5ef7493"
      },
      "source": [
        "my=set(\"HelloWorld\")\n",
        "my"
      ],
      "execution_count": 24,
      "outputs": [
        {
          "output_type": "execute_result",
          "data": {
            "text/plain": [
              "{'H', 'W', 'd', 'e', 'l', 'o', 'r'}"
            ]
          },
          "metadata": {},
          "execution_count": 24
        }
      ]
    },
    {
      "cell_type": "code",
      "metadata": {
        "colab": {
          "base_uri": "https://localhost:8080/"
        },
        "id": "XhFLAZp6nuSc",
        "outputId": "5cbabd27-e75d-409a-892c-7af5c153a5f7"
      },
      "source": [
        "my.clear()\n",
        "print(my)"
      ],
      "execution_count": 26,
      "outputs": [
        {
          "output_type": "stream",
          "name": "stdout",
          "text": [
            "set()\n"
          ]
        }
      ]
    },
    {
      "cell_type": "code",
      "metadata": {
        "colab": {
          "base_uri": "https://localhost:8080/"
        },
        "id": "uvf1iTpAn-m7",
        "outputId": "39881a34-d47f-4cc0-e870-3c8f700a2576"
      },
      "source": [
        "A={1,2,3,4,5}\n",
        "B={4,5,6,7,8}\n",
        "print(A|B) # | is for union"
      ],
      "execution_count": 27,
      "outputs": [
        {
          "output_type": "stream",
          "name": "stdout",
          "text": [
            "{1, 2, 3, 4, 5, 6, 7, 8}\n"
          ]
        }
      ]
    },
    {
      "cell_type": "code",
      "metadata": {
        "colab": {
          "base_uri": "https://localhost:8080/"
        },
        "id": "EmLkIYZYoJw5",
        "outputId": "7dc0b9b4-b0af-4ca0-b544-b8344951cc3f"
      },
      "source": [
        "A.union(B)"
      ],
      "execution_count": 28,
      "outputs": [
        {
          "output_type": "execute_result",
          "data": {
            "text/plain": [
              "{1, 2, 3, 4, 5, 6, 7, 8}"
            ]
          },
          "metadata": {},
          "execution_count": 28
        }
      ]
    },
    {
      "cell_type": "code",
      "metadata": {
        "colab": {
          "base_uri": "https://localhost:8080/"
        },
        "id": "UCXva4__oPNd",
        "outputId": "2d024838-8129-4ff6-c49b-de5400bdaa22"
      },
      "source": [
        "print(A)\n",
        "print(B)"
      ],
      "execution_count": 30,
      "outputs": [
        {
          "output_type": "stream",
          "name": "stdout",
          "text": [
            "{1, 2, 3, 4, 5}\n",
            "{4, 5, 6, 7, 8}\n"
          ]
        }
      ]
    },
    {
      "cell_type": "code",
      "metadata": {
        "colab": {
          "base_uri": "https://localhost:8080/"
        },
        "id": "rPAsz72docYZ",
        "outputId": "9269c3af-6f57-49de-dfef-4851dc109417"
      },
      "source": [
        "print(A&B) # & is for intersection"
      ],
      "execution_count": 31,
      "outputs": [
        {
          "output_type": "stream",
          "name": "stdout",
          "text": [
            "{4, 5}\n"
          ]
        }
      ]
    },
    {
      "cell_type": "code",
      "metadata": {
        "colab": {
          "base_uri": "https://localhost:8080/"
        },
        "id": "zLxZVUvZowgg",
        "outputId": "ce262769-8a7a-4edc-d9e8-534b3e0a3279"
      },
      "source": [
        "A.intersection(B)"
      ],
      "execution_count": 32,
      "outputs": [
        {
          "output_type": "execute_result",
          "data": {
            "text/plain": [
              "{4, 5}"
            ]
          },
          "metadata": {},
          "execution_count": 32
        }
      ]
    },
    {
      "cell_type": "code",
      "metadata": {
        "colab": {
          "base_uri": "https://localhost:8080/"
        },
        "id": "zxf_Cdp-qCDH",
        "outputId": "cc985c69-1544-40da-8045-f5c35060f776"
      },
      "source": [
        "print(A-B) # - is for difference"
      ],
      "execution_count": 33,
      "outputs": [
        {
          "output_type": "stream",
          "name": "stdout",
          "text": [
            "{1, 2, 3}\n"
          ]
        }
      ]
    },
    {
      "cell_type": "code",
      "metadata": {
        "colab": {
          "base_uri": "https://localhost:8080/"
        },
        "id": "oWWql8tdqR0f",
        "outputId": "fd3104d8-6108-4e4c-edbf-29429ca30c93"
      },
      "source": [
        "A.difference(B)"
      ],
      "execution_count": 34,
      "outputs": [
        {
          "output_type": "execute_result",
          "data": {
            "text/plain": [
              "{1, 2, 3}"
            ]
          },
          "metadata": {},
          "execution_count": 34
        }
      ]
    },
    {
      "cell_type": "code",
      "metadata": {
        "colab": {
          "base_uri": "https://localhost:8080/"
        },
        "id": "jpEw81dZqWXg",
        "outputId": "a3f9a810-cb19-4920-f316-49432d372c17"
      },
      "source": [
        "print(A^B) # ^ is for symmetric difference"
      ],
      "execution_count": 35,
      "outputs": [
        {
          "output_type": "stream",
          "name": "stdout",
          "text": [
            "{1, 2, 3, 6, 7, 8}\n"
          ]
        }
      ]
    },
    {
      "cell_type": "code",
      "metadata": {
        "colab": {
          "base_uri": "https://localhost:8080/"
        },
        "id": "W6eWpGwRqvHG",
        "outputId": "0efaa6c9-2a54-49a9-9e59-8642f260d6d4"
      },
      "source": [
        "A.symmetric_difference(B)"
      ],
      "execution_count": 36,
      "outputs": [
        {
          "output_type": "execute_result",
          "data": {
            "text/plain": [
              "{1, 2, 3, 6, 7, 8}"
            ]
          },
          "metadata": {},
          "execution_count": 36
        }
      ]
    },
    {
      "cell_type": "code",
      "metadata": {
        "colab": {
          "base_uri": "https://localhost:8080/"
        },
        "id": "L7cCc38Orl09",
        "outputId": "e1aee481-d8cc-434c-c78a-1e64b509f2f0"
      },
      "source": [
        "print(1 in A) #This shows that sets are iterable"
      ],
      "execution_count": 37,
      "outputs": [
        {
          "output_type": "stream",
          "name": "stdout",
          "text": [
            "True\n"
          ]
        }
      ]
    },
    {
      "cell_type": "code",
      "metadata": {
        "colab": {
          "base_uri": "https://localhost:8080/"
        },
        "id": "RTTw-yWvr14L",
        "outputId": "c115eca0-e803-44ce-99c2-efb8d058d931"
      },
      "source": [
        "my=set(\"Kunal\")\n",
        "for letter in my:\n",
        "  print(letter)"
      ],
      "execution_count": 39,
      "outputs": [
        {
          "output_type": "stream",
          "name": "stdout",
          "text": [
            "u\n",
            "a\n",
            "l\n",
            "n\n",
            "K\n"
          ]
        }
      ]
    },
    {
      "cell_type": "code",
      "metadata": {
        "colab": {
          "base_uri": "https://localhost:8080/"
        },
        "id": "kNrGi1a1sM76",
        "outputId": "f3eb3d7b-8577-4aaf-c224-718bfbcb9677"
      },
      "source": [
        "my=set(\"Acropolis\")\n",
        "for letter in my:\n",
        "  print(letter)"
      ],
      "execution_count": 40,
      "outputs": [
        {
          "output_type": "stream",
          "name": "stdout",
          "text": [
            "p\n",
            "c\n",
            "r\n",
            "l\n",
            "o\n",
            "i\n",
            "A\n",
            "s\n"
          ]
        }
      ]
    },
    {
      "cell_type": "code",
      "metadata": {
        "colab": {
          "base_uri": "https://localhost:8080/"
        },
        "id": "PapnY5DTslCh",
        "outputId": "7e9b88b6-085f-46b2-f7ab-ed698eecc9e3"
      },
      "source": [
        "my=set(\"banana\")\n",
        "for letter in my:\n",
        "  print(letter)"
      ],
      "execution_count": 41,
      "outputs": [
        {
          "output_type": "stream",
          "name": "stdout",
          "text": [
            "a\n",
            "b\n",
            "n\n"
          ]
        }
      ]
    }
  ]
}