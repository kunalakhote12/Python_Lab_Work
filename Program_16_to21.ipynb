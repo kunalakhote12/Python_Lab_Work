{
  "nbformat": 4,
  "nbformat_minor": 0,
  "metadata": {
    "colab": {
      "name": "Program_16_to21.ipynb",
      "provenance": [],
      "collapsed_sections": []
    },
    "kernelspec": {
      "name": "python3",
      "display_name": "Python 3"
    },
    "language_info": {
      "name": "python"
    }
  },
  "cells": [
    {
      "cell_type": "code",
      "metadata": {
        "colab": {
          "base_uri": "https://localhost:8080/"
        },
        "id": "bPR134o0jy5o",
        "outputId": "ca427e0d-4aaa-4dee-ec16-ded84f9613be"
      },
      "source": [
        "'''A student will not be allowed to sit in exam if his/her attendence is less than 80%.\n",
        "Take following input from user\n",
        "Total Number of classes held\n",
        "Total Number of classes attended. And print percentage of class attended. Is student is allowed to sit in exam or not.'''\n",
        "tclass=float(input(\"Enter the total number of classes held \"))\n",
        "aclass=float(input(\"Enter the total number of classes attended \"))\n",
        "per=(aclass/tclass)*100\n",
        "if per < 80.0:\n",
        "  print(\"Attendance Per : %.2f and the person is not allowed to sit in exams\" % per)\n",
        "else:\n",
        "  print(\"Attendance Per : %.2f and the person is allowed to sit in exams\" % per)"
      ],
      "execution_count": null,
      "outputs": [
        {
          "output_type": "stream",
          "name": "stdout",
          "text": [
            "Enter the total number of classes held 55\n",
            "Enter the total number of classes attended 48\n",
            "Attendance Per : 87.27 and the person is allowed to sit in exams\n"
          ]
        }
      ]
    },
    {
      "cell_type": "code",
      "metadata": {
        "id": "qVjWoQDaqH-o",
        "colab": {
          "base_uri": "https://localhost:8080/"
        },
        "outputId": "2223302c-7f75-4cec-b8a2-46a579333547"
      },
      "source": [
        "'''Calculate income tax for the given income by adhering to the below rules\n",
        "Taxable Income        Rate (in %)\n",
        "First Rs.10,0000         0\n",
        "Next Rs. 10,0000       10\n",
        "The remaining           20'''\n",
        "inc=int(input(\"Enter your income \"))\n",
        "if inc<100000:\n",
        "  print(\"Income Tax : 0\")\n",
        "elif inc>100000 and inc<200000:\n",
        "  print(\"Income Tax :\",inc*(0.1))\n",
        "else:\n",
        "  print(\"Income Tax :\",inc*(0.2))"
      ],
      "execution_count": 18,
      "outputs": [
        {
          "output_type": "stream",
          "name": "stdout",
          "text": [
            "Enter your income 553210\n",
            "Income Tax : 110642.0\n"
          ]
        }
      ]
    },
    {
      "cell_type": "code",
      "metadata": {
        "colab": {
          "base_uri": "https://localhost:8080/"
        },
        "id": "FSt44-fp23bf",
        "outputId": "3ac72a34-67e2-40fc-fba7-7e812e023ef6"
      },
      "source": [
        "'''Program to find digital sum of a given Number\n",
        "   ex: n=123  Digital sum----->1+2+3=6'''\n",
        "st=input(\"Enter the number \")\n",
        "sum=0\n",
        "for s in st:\n",
        "  sum=int(s)+sum\n",
        "print(sum)"
      ],
      "execution_count": 20,
      "outputs": [
        {
          "output_type": "stream",
          "name": "stdout",
          "text": [
            "Enter the number 5487\n",
            "24\n"
          ]
        }
      ]
    },
    {
      "cell_type": "code",
      "metadata": {
        "colab": {
          "base_uri": "https://localhost:8080/"
        },
        "id": "NTZXwO8T3dit",
        "outputId": "b4c53783-a2d2-4dd1-b6f2-1416db6ce25c"
      },
      "source": [
        "'''Program to find the digital product of a given number\n",
        "   ex: n=43   Digital product ----->4*3=12'''\n",
        "st=input(\"Enter the number \")\n",
        "sum=1\n",
        "for s in st:\n",
        "  sum=int(s)*sum\n",
        "print(sum)"
      ],
      "execution_count": 24,
      "outputs": [
        {
          "output_type": "stream",
          "name": "stdout",
          "text": [
            "Enter the number 1234\n",
            "24\n"
          ]
        }
      ]
    },
    {
      "cell_type": "code",
      "metadata": {
        "colab": {
          "base_uri": "https://localhost:8080/"
        },
        "id": "0tpWNo5x4x-s",
        "outputId": "d665b766-0395-4fcc-bcab-be4376094d9d"
      },
      "source": [
        "#Find the sum of the series 3 +33 + 333 + 3333 + .. n terms\n",
        "n=int(input(\"Enter the value of n \"))\n",
        "p=3\n",
        "sum=0\n",
        "for i in range(n):\n",
        "  sum=p+sum\n",
        "  p=(p*10)+3\n",
        "print(sum)"
      ],
      "execution_count": 26,
      "outputs": [
        {
          "output_type": "stream",
          "name": "stdout",
          "text": [
            "Enter the value of n 4\n",
            "3702\n"
          ]
        }
      ]
    },
    {
      "cell_type": "code",
      "metadata": {
        "colab": {
          "base_uri": "https://localhost:8080/"
        },
        "id": "tvoan3aO65iI",
        "outputId": "1ddd88ae-1204-451b-9417-530822e5df8c"
      },
      "source": [
        "'''Print the following pattern\n",
        "* \n",
        "* * \n",
        "* * * \n",
        "* * * * \n",
        "* * * * * \n",
        "* * * * \n",
        "* * * \n",
        "* * \n",
        "*'''\n",
        "n=int(input(\"Enter the numbers of rows \"))\n",
        "for i in range(1,(n*2)):\n",
        "  if i<=(n):\n",
        "    print(\"* \"*i)\n",
        "  else:\n",
        "    print(\"* \"*((n*2)-i))"
      ],
      "execution_count": 30,
      "outputs": [
        {
          "output_type": "stream",
          "name": "stdout",
          "text": [
            "Enter the numbers of rows 5\n",
            "* \n",
            "* * \n",
            "* * * \n",
            "* * * * \n",
            "* * * * * \n",
            "* * * * \n",
            "* * * \n",
            "* * \n",
            "* \n"
          ]
        }
      ]
    }
  ]
}