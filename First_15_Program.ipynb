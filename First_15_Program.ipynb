{
  "nbformat": 4,
  "nbformat_minor": 0,
  "metadata": {
    "colab": {
      "name": "First_15_Program.ipynb",
      "provenance": [],
      "collapsed_sections": []
    },
    "kernelspec": {
      "name": "python3",
      "display_name": "Python 3"
    },
    "language_info": {
      "name": "python"
    }
  },
  "cells": [
    {
      "cell_type": "code",
      "metadata": {
        "colab": {
          "base_uri": "https://localhost:8080/"
        },
        "id": "fo3GSdbiYWfn",
        "outputId": "27367680-8b90-4ce3-dd69-9daee0125352"
      },
      "source": [
        "#Display float number with 2 decimal places using print()\n",
        "f1=float(input(\"Enter the float number \"))\n",
        "fs=\"{:.2f}\".format(f1)\n",
        "print(fs)"
      ],
      "execution_count": null,
      "outputs": [
        {
          "output_type": "stream",
          "name": "stdout",
          "text": [
            "Enter the float number 3.414\n",
            "3.41\n"
          ]
        }
      ]
    },
    {
      "cell_type": "code",
      "metadata": {
        "colab": {
          "base_uri": "https://localhost:8080/"
        },
        "id": "SqpCsvX6Z3mf",
        "outputId": "aa4bb1a7-cd2f-48cc-9721-3742828475d7"
      },
      "source": [
        "#Takes two integer numbers and  return their product.\n",
        "f1=int(input(\"Enter the first number \"))\n",
        "f2=int(input(\"Enter the second number \"))\n",
        "print(\"The product =\",f1*f2)"
      ],
      "execution_count": null,
      "outputs": [
        {
          "output_type": "stream",
          "name": "stdout",
          "text": [
            "Enter the first number 5\n",
            "Enter the second number 12\n",
            "The product = 60\n"
          ]
        }
      ]
    },
    {
      "cell_type": "code",
      "metadata": {
        "colab": {
          "base_uri": "https://localhost:8080/"
        },
        "id": "dwXg4oj4Z8r9",
        "outputId": "53c9d2de-4ee8-4cf0-e245-d3fb38730bf0"
      },
      "source": [
        "#Write a Python program to get the volume of a sphere with radius 10.\n",
        "pi=3.1415926535897931\n",
        "r=10\n",
        "print(\"Volume of sphere \",((4/3)*pi*r*r*r))\n",
        "\n",
        "\"\"\"r=float(input(\"Enter the radius of sphere \"))\n",
        "pi=3.1415926535897931\n",
        "vol=(4.0/3.0)*pi*r*r*r\n",
        "print(\"Volume =\",vol)\"\"\""
      ],
      "execution_count": null,
      "outputs": [
        {
          "output_type": "stream",
          "name": "stdout",
          "text": [
            "Volume of sphere : 4188.790204786391\n"
          ]
        }
      ]
    },
    {
      "cell_type": "code",
      "metadata": {
        "colab": {
          "base_uri": "https://localhost:8080/"
        },
        "id": "NgAEuM1Qc8ZV",
        "outputId": "412911d6-677c-4fe7-bb75-6aaebfa885bd"
      },
      "source": [
        "#Accept two numbers from the user and multiply them together.\n",
        "f1=int(input(\"Enter the first number \"))\n",
        "f2=int(input(\"Enter the second number \"))\n",
        "f3=f1*f2\n",
        "print(\"The product =\",f3)"
      ],
      "execution_count": null,
      "outputs": [
        {
          "output_type": "stream",
          "name": "stdout",
          "text": [
            "Enter the first number 10\n",
            "Enter the second number 5\n",
            "The product = 50\n"
          ]
        }
      ]
    },
    {
      "cell_type": "code",
      "metadata": {
        "colab": {
          "base_uri": "https://localhost:8080/"
        },
        "id": "k3vPqnp5eTkt",
        "outputId": "7010280e-e0d2-41fd-e295-3d54b69bec75"
      },
      "source": [
        "#Write a Python program that accepts an integer (a) and computes the value of a+aa+aaa.\n",
        "f1=int(input(\"Enter the number \"))\n",
        "f2=input(\"Enter the digit \")\n",
        "sum=0\n",
        "for i in range(1,f1+1):\n",
        "  sum=sum+int(str(f2*i))\n",
        "print(sum)"
      ],
      "execution_count": null,
      "outputs": [
        {
          "output_type": "stream",
          "name": "stdout",
          "text": [
            "Enter the number 6\n",
            "Enter the digit 3\n",
            "370368\n"
          ]
        }
      ]
    },
    {
      "cell_type": "code",
      "metadata": {
        "colab": {
          "base_uri": "https://localhost:8080/"
        },
        "id": "_rLIBerygia1",
        "outputId": "5b628a7a-7876-4acd-d926-b82cd1b36b3c"
      },
      "source": [
        "#Write a Python program to calculate the length of a string\n",
        "f1=input(\"Enter String \")\n",
        "len=0\n",
        "for i in f1:\n",
        "      len=len+1\n",
        "print(\"Length of the string is =\",len)"
      ],
      "execution_count": null,
      "outputs": [
        {
          "output_type": "stream",
          "name": "stdout",
          "text": [
            "Enter String kunal akhote\n",
            "Length of the string is = 12\n"
          ]
        }
      ]
    },
    {
      "cell_type": "code",
      "metadata": {
        "colab": {
          "base_uri": "https://localhost:8080/"
        },
        "id": "T0pV8PBbhO3e",
        "outputId": "f41948f2-a7c9-4aeb-af13-1dedc9cbac38"
      },
      "source": [
        "#Write a Python program to parse a string to Float & Integer\n",
        "f1=\"913.457\"\n",
        "print(int(float(f1)))\n",
        "print(float(f1))"
      ],
      "execution_count": null,
      "outputs": [
        {
          "output_type": "stream",
          "name": "stdout",
          "text": [
            "913\n",
            "913.457\n"
          ]
        }
      ]
    },
    {
      "cell_type": "code",
      "metadata": {
        "colab": {
          "base_uri": "https://localhost:8080/"
        },
        "id": "VqnasQIWj_T8",
        "outputId": "2149fb70-e138-4fc1-cbb6-41ca13a4ce1f"
      },
      "source": [
        "#Given two integer numbers return their sum. If the sum is greater than 100, then return their product.\n",
        "f1=int(input(\"Enter the first number \"))\n",
        "f2=int(input(\"Enter the second number \"))\n",
        "f3=f1+f2\n",
        "if f3>100:\n",
        "  print(\"Product :\",f1*f2)\n",
        "else:\n",
        "  print(\"Sum :\",f3)"
      ],
      "execution_count": null,
      "outputs": [
        {
          "output_type": "stream",
          "name": "stdout",
          "text": [
            "Enter the first number 123\n",
            "Enter the second number 12\n",
            "Product : 1476\n"
          ]
        }
      ]
    },
    {
      "cell_type": "code",
      "metadata": {
        "colab": {
          "base_uri": "https://localhost:8080/"
        },
        "id": "5RVgOcjtmqDG",
        "outputId": "eda1e7a9-78f1-4a70-cbd4-91584b3b819d"
      },
      "source": [
        "#Write a Python program to calculate the sum of three given numbers, if the values are not - equal then return four times of their sum\n",
        "f1=int(input(\"Enter the first number \"))\n",
        "f2=int(input(\"Enter the second number \"))\n",
        "f3=int(input(\"Enter the third number \"))\n",
        "sum=f1+f2+f3\n",
        "if f1==f2==f3:\n",
        "      sum=sum *3\n",
        "print(sum)"
      ],
      "execution_count": null,
      "outputs": [
        {
          "output_type": "stream",
          "name": "stdout",
          "text": [
            "Enter the first number 4\n",
            "Enter the second number 4\n",
            "Enter the third number 4\n",
            "36\n"
          ]
        }
      ]
    },
    {
      "cell_type": "code",
      "metadata": {
        "colab": {
          "base_uri": "https://localhost:8080/"
        },
        "id": "No5POrkooKZc",
        "outputId": "76f29bd6-54d4-4e86-dac8-2632925764e8"
      },
      "source": [
        "#A shop will give discount of 50% if the cost of purchased quantity is more than 10000. \n",
        "#Ask user for quantity suppose, one unit will cost 100. Judge and print total cost for user.\n",
        "quan=int(input(\"Enter the quantity \"))\n",
        "tcost=quan*100\n",
        "if tcost>10000:\n",
        "  tcost=tcost-(0.5*tcost)\n",
        "print(tcost)"
      ],
      "execution_count": null,
      "outputs": [
        {
          "output_type": "stream",
          "name": "stdout",
          "text": [
            "Enter the quantity 620\n",
            "31000.0\n"
          ]
        }
      ]
    },
    {
      "cell_type": "code",
      "metadata": {
        "colab": {
          "base_uri": "https://localhost:8080/"
        },
        "id": "gE5IqkLsluXD",
        "outputId": "1a86cda7-041b-4813-bca3-0f3a18f7cc37"
      },
      "source": [
        "#To check whether a number is divisible by 8 and 12 or not.\n",
        "f1=int(input(\"Enter the number \"))\n",
        "if f1%8==0 and f1%12==0:\n",
        "  print(f1,\"is divisible by 8 and 12.\")\n",
        "else:\n",
        "  print(f1,\"is not divisible by 8 and 12.\")"
      ],
      "execution_count": 4,
      "outputs": [
        {
          "output_type": "stream",
          "name": "stdout",
          "text": [
            "Enter the number 128\n",
            "128 is not divisible by 8 and 12.\n"
          ]
        }
      ]
    },
    {
      "cell_type": "code",
      "metadata": {
        "colab": {
          "base_uri": "https://localhost:8080/"
        },
        "id": "tgadbN-HmrGY",
        "outputId": "f7387986-0c4e-4576-9682-e8dcda07803d"
      },
      "source": [
        "#To check whether a given number is even or odd.\n",
        "f1=int(input(\"Enter a number \"))\n",
        "if f1%2==0:\n",
        "  print(f1,\"is even number.\")\n",
        "else:\n",
        "  print(f1,\"is odd number\")"
      ],
      "execution_count": 6,
      "outputs": [
        {
          "output_type": "stream",
          "name": "stdout",
          "text": [
            "Enter a number 10\n",
            "10 is even number.\n"
          ]
        }
      ]
    },
    {
      "cell_type": "code",
      "metadata": {
        "colab": {
          "base_uri": "https://localhost:8080/"
        },
        "id": "_CIFVvtCoMPY",
        "outputId": "e16e19ab-2679-4efd-9e98-1b47a7eafde3"
      },
      "source": [
        "\"\"\"Write a program to input marks of five subjects Physics, Chemistry, Biology, \n",
        "Mathematics and Computer. Calculate percentage and grade according to following:\n",
        "Percentage >= 90% : Grade A\n",
        "Percentage >= 80% : Grade B\n",
        "Percentage >= 70% : Grade C\n",
        "Percentage >= 60% : Grade D\n",
        "Percentage >= 40% : Grade E\n",
        "Percentage < 40% :  Grade F\"\"\"\n",
        "print(\"ENTER THE MARKS OF FOLLOWING SUBJECT(OUT of 100)\")\n",
        "phy=int(input(\"Physics:\"))\n",
        "chem=int(input(\"Chemistry:\"))\n",
        "bio=int(input(\"Biology:\"))\n",
        "math=int(input(\"Mathematics:\"))\n",
        "com=int(input(\"Computer:\"))\n",
        "tot=phy+chem+bio+math+com\n",
        "per=(tot/500)*100\n",
        "if per>=90:\n",
        "  print(\"Your grade is A\")\n",
        "elif per>=80:\n",
        "  print(\"Your grade is B\")\n",
        "elif per>=70:\n",
        "  print(\"Your grade is C\")\n",
        "elif per>=60:\n",
        "  print(\"Your grade is D\")\n",
        "elif per>=40:\n",
        "  print(\"Your grade is E\")\n",
        "else:\n",
        "  print(\"Your grade is F\")"
      ],
      "execution_count": 9,
      "outputs": [
        {
          "output_type": "stream",
          "name": "stdout",
          "text": [
            "ENTER THE MARKS OF FOLLOWING SUBJECT(OUT of 100)\n",
            "Physics:92\n",
            "Chemistry:91\n",
            "Biology:90\n",
            "Mathematics:93\n",
            "Computer:87\n",
            "Your grade is A\n"
          ]
        }
      ]
    },
    {
      "cell_type": "code",
      "metadata": {
        "colab": {
          "base_uri": "https://localhost:8080/"
        },
        "id": "LQ7sgAMDrhLC",
        "outputId": "b789c446-4878-4d08-dc7b-e3fa6c98fd30"
      },
      "source": [
        "#Take input of age of 3 people by user and determine oldest and youngest among them.\n",
        "age1=int(input(\"Enter the age of user 1 \"))\n",
        "age2=int(input(\"Enter the age of user 2 \"))\n",
        "age3=int(input(\"Enter the age of user 3 \"))\n",
        "if age1>age2 and age1>age3:\n",
        "  if age2>age3:\n",
        "    print(\"User 1 is oldest and User 3 is youngest\")\n",
        "  else:\n",
        "    print(\"User 1 is oldest and User 2 is youngest\")\n",
        "elif age2>age3 and age2>age1:\n",
        "  if age1>age3:\n",
        "    print(\"User 2 is oldest and User 3 is youngest\")\n",
        "  else:\n",
        "    print(\"User 2 is oldest and User 1 is youngest\")\n",
        "else:\n",
        "  if age1>age2:\n",
        "    print(\"User 3 is oldest and User 2 is youngest\")\n",
        "  else:\n",
        "    print(\"User 3 is oldest and User 1 is youngest\")"
      ],
      "execution_count": 14,
      "outputs": [
        {
          "output_type": "stream",
          "name": "stdout",
          "text": [
            "Enter the age of user 1 1\n",
            "Enter the age of user 2 9\n",
            "Enter the age of user 3 15\n",
            "User 3 is oldest and User 1 is youngest\n"
          ]
        }
      ]
    },
    {
      "cell_type": "code",
      "metadata": {
        "colab": {
          "base_uri": "https://localhost:8080/"
        },
        "id": "Qj7RQFmAt3ij",
        "outputId": "cac9a960-9e0b-4cda-fdde-9f51167d229d"
      },
      "source": [
        "'''Write a program to input electricity unit charges and calculate total electricity bill according to the given condition:\n",
        "For first 50 units Rs. 0.50/unit\n",
        "For next 100 units Rs. 0.75/unit\n",
        "For next 100 units Rs. 1.20/unit\n",
        "For unit above 250 Rs. 1.50/unit\n",
        "An additional surcharge of 20% is added to the bill'''\n",
        "unit=int(input(\"Enter the units \"))\n",
        "tot=0.0\n",
        "if unit<=50:\n",
        "  tot=0.50*unit\n",
        "elif unit>50 and unit<=150:\n",
        "  tot=0.75*unit\n",
        "elif unit>150 and unit<=250:\n",
        "  tot=1.20*unit\n",
        "elif unit>250:\n",
        "  tot=1.50*unit\n",
        "ctot=tot*(20/100)+tot\n",
        "print(\"Total bill :\",ctot)"
      ],
      "execution_count": 16,
      "outputs": [
        {
          "output_type": "stream",
          "name": "stdout",
          "text": [
            "Enter the units 51\n",
            "Total bill : 45.9\n"
          ]
        }
      ]
    }
  ]
}